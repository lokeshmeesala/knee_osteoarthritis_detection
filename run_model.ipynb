{
 "cells": [
  {
   "cell_type": "markdown",
   "id": "a3de0932",
   "metadata": {},
   "source": [
    "# Detecting Early Stage Knee Osteoarthritis Using Deep Transfer Learning\n",
    "### By Lokesh Meesala (001078109)"
   ]
  },
  {
   "cell_type": "code",
   "execution_count": null,
   "id": "fbc2f05d",
   "metadata": {},
   "outputs": [],
   "source": [
    "import os\n",
    "import utils\n",
    "import glob\n",
    "import json\n",
    "import pandas as pd\n",
    "import numpy as np\n",
    "from sklearn.utils.class_weight import compute_class_weight\n",
    "\n",
    "from tensorflow.keras.preprocessing.image import ImageDataGenerator\n",
    "from tensorflow.keras.applications.vgg16 import VGG16\n",
    "from tensorflow.keras.applications.vgg16 import preprocess_input as vgg16_preprocess_input\n",
    "from tensorflow.keras.applications.resnet_v2 import ResNet152V2\n",
    "from tensorflow.keras.applications.resnet_v2 import preprocess_input as resnet152_preprocess_input\n",
    "\n",
    "from tensorflow.keras.layers import Dense, Dropout \n",
    "from tensorflow.keras.callbacks import EarlyStopping, ReduceLROnPlateau, ModelCheckpoint\n",
    "from tensorflow.keras import regularizers"
   ]
  },
  {
   "cell_type": "markdown",
   "id": "90812dac",
   "metadata": {},
   "source": [
    "## Parameters and Paths"
   ]
  },
  {
   "cell_type": "code",
   "execution_count": null,
   "id": "d398e870",
   "metadata": {},
   "outputs": [],
   "source": [
    "data_dir = \"data/\"\n",
    "exp_dir = \"experiments/\"\n",
    "train_dir = os.path.join(data_dir,'train')\n",
    "test_dir = os.path.join(data_dir,'test')\n",
    "val_dir = os.path.join(data_dir,'val')\n",
    "target_labels=['0:Healthy', '1:Doubtful', '2:Minimal', '3:Moderate', '4:Severe']\n",
    "\n",
    "NUM_CLASSES = 5\n",
    "IMAGE_SIZE=[224, 224]\n",
    "BATCH_SIZE= 64"
   ]
  },
  {
   "cell_type": "markdown",
   "id": "6df58265",
   "metadata": {},
   "source": [
    "#### Delete Any previously Augmented Data"
   ]
  },
  {
   "cell_type": "code",
   "execution_count": null,
   "id": "1e956472",
   "metadata": {},
   "outputs": [],
   "source": [
    "for i in range(5):\n",
    "    utils.del_aug_data(train_dir+\"/\"+str(i)+\"/aug\")\n",
    "    utils.del_aug_data(val_dir+\"/\"+str(i)+\"/aug\")"
   ]
  },
  {
   "cell_type": "markdown",
   "id": "13dded97",
   "metadata": {},
   "source": [
    "### Create Dataframes from Paths"
   ]
  },
  {
   "cell_type": "code",
   "execution_count": null,
   "id": "0f4aa02d",
   "metadata": {},
   "outputs": [],
   "source": [
    "train_df, test_df, val_df = utils.get_data(train_dir, test_dir, val_dir, target_labels)\n",
    "class_weights = compute_class_weight('balanced', classes=np.array(target_labels), y=train_df.target_label.values)\n",
    "class_weight_dict = dict(enumerate(class_weights))"
   ]
  },
  {
   "cell_type": "markdown",
   "id": "7a15298a",
   "metadata": {},
   "source": [
    "### Augment Train Data and Validation Data"
   ]
  },
  {
   "cell_type": "code",
   "execution_count": null,
   "id": "6e9f0fed",
   "metadata": {
    "scrolled": false
   },
   "outputs": [],
   "source": [
    "utils.augment_dataset(train_df, train_dir, [224, 224], thresh=0.70)\n",
    "utils.augment_dataset(val_df, val_dir, [224, 224], thresh=0.70)"
   ]
  },
  {
   "cell_type": "markdown",
   "id": "2907a8d1",
   "metadata": {},
   "source": [
    "### Create Dataframes with New Augmented Data"
   ]
  },
  {
   "cell_type": "code",
   "execution_count": null,
   "id": "bb647fb2",
   "metadata": {},
   "outputs": [],
   "source": [
    "new_train_df, new_test_df, new_val_df = utils.get_data(train_dir, test_dir, val_dir, target_labels)"
   ]
  },
  {
   "cell_type": "markdown",
   "id": "3b5c412c",
   "metadata": {},
   "source": [
    "### Create Data Generators"
   ]
  },
  {
   "cell_type": "code",
   "execution_count": null,
   "id": "98dfb62f",
   "metadata": {},
   "outputs": [],
   "source": [
    "# Create the Generators\n",
    "train_data_gen = ImageDataGenerator(preprocessing_function=resnet152_preprocess_input,\n",
    "                              rotation_range=5,\n",
    "                              height_shift_range=0.5,\n",
    "                              horizontal_flip=True,\n",
    "                              vertical_flip=False,\n",
    "                              fill_mode='nearest')\n",
    "\n",
    "val_test_data_gen = ImageDataGenerator(preprocessing_function=resnet152_preprocess_input)\n",
    "\n",
    "# Train data generator\n",
    "train_data_w_aug = utils.create_data_gen(new_train_df, train_dir, train_data_gen, IMAGE_SIZE, BATCH_SIZE, shuffle=True)\n",
    "train_data_wo_aug = utils.create_data_gen(train_df, train_dir, train_data_gen, IMAGE_SIZE, BATCH_SIZE, shuffle=False)\n",
    "\n",
    "# Validation data generator\n",
    "val_data_w_aug = utils.create_data_gen(new_val_df, val_dir, val_test_data_gen, IMAGE_SIZE, BATCH_SIZE, shuffle=False)\n",
    "val_data_wo_aug = utils.create_data_gen(val_df, val_dir, val_test_data_gen, IMAGE_SIZE, BATCH_SIZE, shuffle=False)\n",
    "\n",
    "# Test data generator\n",
    "test_data = utils.create_data_gen(new_test_df, test_dir, val_test_data_gen, IMAGE_SIZE, BATCH_SIZE, shuffle = False)"
   ]
  },
  {
   "cell_type": "markdown",
   "id": "e97bb56e",
   "metadata": {},
   "source": [
    "#### Parameters to Save the Experiments"
   ]
  },
  {
   "cell_type": "code",
   "execution_count": null,
   "id": "ce80385a",
   "metadata": {},
   "outputs": [],
   "source": [
    "EXP_ID = '04_28_11_B64_AUG_TR_70_TS_70'\n",
    "DESC = \"\"\"Selective Augmentation;\n",
    "RESNET152;\n",
    "tr 0.7 ts 0.7; \n",
    "reducelr factor 0.2 pat 3;\n",
    "batch_size 64\n",
    "epochs 100\n",
    "Dense(128,activation='relu', kernel_regularizer=regularizers.l2(0.01)), \n",
    "    Dropout(0.3),\n",
    "    Dense(128,activation='relu', kernel_regularizer=regularizers.l2(0.01)), \n",
    "    Dropout(0.3),\n",
    "    Dense(32,activation='relu'), \n",
    "    Dense(16,activation='relu')\n",
    "\"\"\"\n",
    "p = os.path.join(exp_dir,EXP_ID+'/')\n",
    "os.makedirs(p+\"/checkpoint\", exist_ok=True)\n",
    "checkpoint_filepath = p+\"/checkpoint/weights-best-{epoch:02d}-{val_loss:.2f}.keras\""
   ]
  },
  {
   "cell_type": "code",
   "execution_count": null,
   "id": "a9adb5e9",
   "metadata": {},
   "outputs": [],
   "source": [
    "new_layers_list = [\n",
    "    Dense(128,activation='relu', kernel_regularizer=regularizers.l2(0.01)), \n",
    "    Dropout(0.3),\n",
    "    Dense(128,activation='relu', kernel_regularizer=regularizers.l2(0.01)), \n",
    "    Dropout(0.3),\n",
    "    Dense(32,activation='relu'), \n",
    "    Dense(16,activation='relu')\n",
    "]\n",
    "\n",
    "### Create the model\n",
    "model = utils.create_model(ResNet152V2, IMAGE_SIZE, NUM_CLASSES, new_layers_list, freeze_layers=True, chkp_weights=None)\n",
    "\n",
    "reduce_lr = ReduceLROnPlateau(monitor='val_loss', factor=0.2, patience=3, verbose=1)\n",
    "early_stopping = EarlyStopping(monitor='val_loss', patience=5, verbose=1)\n",
    "\n",
    "model_checkpoint_callback = ModelCheckpoint(filepath=checkpoint_filepath,\n",
    "                                            monitor='val_loss',\n",
    "                                            save_best_only=True)"
   ]
  },
  {
   "cell_type": "markdown",
   "id": "ed857e30",
   "metadata": {},
   "source": [
    "## Fit the Model"
   ]
  },
  {
   "cell_type": "code",
   "execution_count": null,
   "id": "abe1faa3",
   "metadata": {},
   "outputs": [],
   "source": [
    "model,hist = utils.fit_model(model, train_data_w_aug, val_data_w_aug, epochs=3, callbacks=[reduce_lr, early_stopping, model_checkpoint_callback],\n",
    "                      class_weight=class_weight_dict)"
   ]
  },
  {
   "cell_type": "markdown",
   "id": "9257ad96",
   "metadata": {},
   "source": [
    "## Get Plots and Metrics"
   ]
  },
  {
   "cell_type": "code",
   "execution_count": null,
   "id": "cb606844",
   "metadata": {
    "scrolled": true
   },
   "outputs": [],
   "source": [
    "val_eval_dict = utils.run_prediction_save_metrics(model,val_data_wo_aug,title=\"validation\", plot_metrics=True, return_preds=True)\n",
    "train_eval_dict = utils.run_prediction_save_metrics(model,train_data_wo_aug,title=\"train\", plot_metrics=True, return_preds=True)\n",
    "test_eval_dict = utils.run_prediction_save_metrics(model,test_data,title=\"test\", plot_metrics=True, return_preds=True)"
   ]
  },
  {
   "cell_type": "markdown",
   "id": "1a3ed7ed",
   "metadata": {},
   "source": [
    "## Save the Experiments"
   ]
  },
  {
   "cell_type": "code",
   "execution_count": null,
   "id": "5f007633",
   "metadata": {},
   "outputs": [],
   "source": [
    "utils.save_exp(exp_dir, EXP_ID, model, DESC, test_eval_dict, target_labels,\n",
    "         model_name=EXP_ID+\"_v2\", training_hist=hist)\n",
    "\n",
    "utils.save_exp(exp_dir, EXP_ID, model, DESC, train_eval_dict, target_labels)\n",
    "\n",
    "utils.save_exp(exp_dir, EXP_ID, model, DESC, val_eval_dict, target_labels)"
   ]
  },
  {
   "cell_type": "markdown",
   "id": "47aba3ab",
   "metadata": {},
   "source": [
    "# Load Best Checkpoint"
   ]
  },
  {
   "cell_type": "code",
   "execution_count": null,
   "id": "f3ea8d0e",
   "metadata": {
    "scrolled": true
   },
   "outputs": [],
   "source": [
    "best_chkp_point = \"best_checkpoint/weights-best-72-1.18.hdf5\"\n",
    "model = utils.create_model(ResNet152V2, IMAGE_SIZE, NUM_CLASSES, new_layers_list, freeze_layers=True, chkp_weights=best_chkp_point, )\n",
    "\n",
    "DESC = DESC+\"|best chkpoint\"\n",
    "EXP_ID = \"final_best\"\n",
    "\n",
    "val_eval_dict = utils.run_prediction_save_metrics(model,val_data_wo_aug,title=\"validation_best\", plot_metrics=True, return_preds=True)\n",
    "train_eval_dict = utils.run_prediction_save_metrics(model,train_data_wo_aug,title=\"train_best\", plot_metrics=True, return_preds=True)\n",
    "test_eval_dict = utils.run_prediction_save_metrics(model,test_data,title=\"test_best\", plot_metrics=True, return_preds=True)"
   ]
  },
  {
   "cell_type": "markdown",
   "id": "26cf2c8a",
   "metadata": {},
   "source": [
    "# Analyze all the experiment results"
   ]
  },
  {
   "cell_type": "code",
   "execution_count": null,
   "id": "14b3340b",
   "metadata": {},
   "outputs": [],
   "source": [
    "exp_data = []\n",
    "\n",
    "for p in glob.glob(\"**/*.json\", root_dir=exp_dir, recursive=True):\n",
    "    f = open(exp_dir+p)\n",
    "    exp_dict = json.load(f)\n",
    "    exp_dict['exp_id'] = p.split(\"\\\\\")[0]\n",
    "    exp_data.append(exp_dict)\n",
    "\n",
    "res_df = pd.json_normalize(exp_data)\n",
    "final_res_df  = res_df.groupby(['exp_id','title']).agg({'f1_score': 'first',\n",
    "                                       'precision_score':'first',\n",
    "                                       'recall_score': 'first',\n",
    "                                       'accuracy_score': 'first',\n",
    "                                       'description':'first'})\n",
    "\n",
    "final_res_df.description = final_res_df.description.apply(lambda x: x.strip())\n",
    "\n",
    "final_res_df"
   ]
  },
  {
   "cell_type": "code",
   "execution_count": null,
   "id": "48bb7a4f",
   "metadata": {},
   "outputs": [],
   "source": []
  }
 ],
 "metadata": {
  "kernelspec": {
   "display_name": "knee_detection_env",
   "language": "python",
   "name": "python3"
  },
  "language_info": {
   "codemirror_mode": {
    "name": "ipython",
    "version": 3
   },
   "file_extension": ".py",
   "mimetype": "text/x-python",
   "name": "python",
   "nbconvert_exporter": "python",
   "pygments_lexer": "ipython3",
   "version": "3.12.2"
  }
 },
 "nbformat": 4,
 "nbformat_minor": 5
}
